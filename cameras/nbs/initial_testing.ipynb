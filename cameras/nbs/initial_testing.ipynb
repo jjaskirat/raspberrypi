{
 "cells": [
  {
   "cell_type": "code",
   "execution_count": 1,
   "metadata": {},
   "outputs": [
    {
     "name": "stderr",
     "output_type": "stream",
     "text": [
      "[1:40:26.521717471] [7138] \u001b[1;32m INFO \u001b[1;37mCamera \u001b[1;34mcamera_manager.cpp:299 \u001b[0mlibcamera v0.0.0+4226-8689dd6b\n",
      "[1:40:26.605828489] [7157] \u001b[1;32m INFO \u001b[1;37mRPI \u001b[1;34mraspberrypi.cpp:1485 \u001b[0mRegistered camera /base/soc/i2c0mux/i2c@1/imx519@1a to Unicam device /dev/media1 and ISP device /dev/media3\n",
      "[1:40:26.617777990] [7138] \u001b[1;32m INFO \u001b[1;37mCamera \u001b[1;34mcamera.cpp:1028 \u001b[0mconfiguring streams: (0) 640x480-XBGR8888\n",
      "[1:40:26.620668055] [7157] \u001b[1;32m INFO \u001b[1;37mRPI \u001b[1;34mraspberrypi.cpp:851 \u001b[0mSensor: /base/soc/i2c0mux/i2c@1/imx519@1a - Selected sensor format: 1280x720-SRGGB10_1X10 - Selected unicam format: 1280x720-pRAA\n"
     ]
    },
    {
     "ename": "",
     "evalue": "",
     "output_type": "error",
     "traceback": [
      "\u001b[1;31mCannot execute code, session has been disposed. Please try restarting the Kernel."
     ]
    },
    {
     "ename": "",
     "evalue": "",
     "output_type": "error",
     "traceback": [
      "\u001b[1;31mThe Kernel crashed while executing code in the the current cell or a previous cell. Please review the code in the cell(s) to identify a possible cause of the failure. Click <a href='https://aka.ms/vscodeJupyterKernelCrash'>here</a> for more info. View Jupyter <a href='command:jupyter.viewOutput'>log</a> for further details."
     ]
    }
   ],
   "source": [
    "from picamera2 import Picamera2, Preview\n",
    "import time\n",
    "picam2 = Picamera2()\n",
    "camera_config = picam2.create_preview_configuration()\n",
    "picam2.configure(camera_config)\n",
    "picam2.start_preview(Preview.QTGL)\n",
    "picam2.start()\n",
    "time.sleep(2)\n",
    "picam2.capture_file(\"test.jpg\")"
   ]
  },
  {
   "cell_type": "code",
   "execution_count": 1,
   "metadata": {},
   "outputs": [
    {
     "name": "stderr",
     "output_type": "stream",
     "text": [
      "[1:42:46.020143488] [7394] \u001b[1;32m INFO \u001b[1;37mCamera \u001b[1;34mcamera_manager.cpp:299 \u001b[0mlibcamera v0.0.0+4226-8689dd6b\n",
      "[1:42:46.081849217] [7408] \u001b[1;32m INFO \u001b[1;37mRPI \u001b[1;34mraspberrypi.cpp:1485 \u001b[0mRegistered camera /base/soc/i2c0mux/i2c@1/imx519@1a to Unicam device /dev/media1 and ISP device /dev/media3\n",
      "[1:42:46.089105784] [7394] \u001b[1;32m INFO \u001b[1;37mCamera \u001b[1;34mcamera.cpp:1028 \u001b[0mconfiguring streams: (0) 1280x720-XBGR8888\n",
      "[1:42:46.089408044] [7408] \u001b[1;32m INFO \u001b[1;37mRPI \u001b[1;34mraspberrypi.cpp:851 \u001b[0mSensor: /base/soc/i2c0mux/i2c@1/imx519@1a - Selected sensor format: 1280x720-SRGGB10_1X10 - Selected unicam format: 1280x720-pRAA\n"
     ]
    }
   ],
   "source": [
    "from picamera2 import Picamera2\n",
    "picam2 = Picamera2()\n",
    "picam2.start_and_record_video(\"test.mp4\", duration=5)"
   ]
  },
  {
   "cell_type": "code",
   "execution_count": 1,
   "metadata": {},
   "outputs": [
    {
     "name": "stderr",
     "output_type": "stream",
     "text": [
      "[1:44:45.777535147] [7425] \u001b[1;32m INFO \u001b[1;37mCamera \u001b[1;34mcamera_manager.cpp:299 \u001b[0mlibcamera v0.0.0+4226-8689dd6b\n",
      "[1:44:45.843024131] [7439] \u001b[1;32m INFO \u001b[1;37mRPI \u001b[1;34mraspberrypi.cpp:1485 \u001b[0mRegistered camera /base/soc/i2c0mux/i2c@1/imx519@1a to Unicam device /dev/media1 and ISP device /dev/media3\n"
     ]
    },
    {
     "ename": "",
     "evalue": "",
     "output_type": "error",
     "traceback": [
      "\u001b[1;31mCannot execute code, session has been disposed. Please try restarting the Kernel."
     ]
    },
    {
     "ename": "",
     "evalue": "",
     "output_type": "error",
     "traceback": [
      "\u001b[1;31mThe Kernel crashed while executing code in the the current cell or a previous cell. Please review the code in the cell(s) to identify a possible cause of the failure. Click <a href='https://aka.ms/vscodeJupyterKernelCrash'>here</a> for more info. View Jupyter <a href='command:jupyter.viewOutput'>log</a> for further details."
     ]
    }
   ],
   "source": [
    "import time\n",
    "\n",
    "from picamera2 import Picamera2, Preview\n",
    "\n",
    "picam2 = Picamera2()\n",
    "picam2.start_preview(Preview.QT)\n",
    "\n",
    "preview_config = picam2.create_preview_configuration()\n",
    "picam2.configure(preview_config)\n",
    "\n",
    "picam2.start()\n",
    "time.sleep(5)"
   ]
  },
  {
   "cell_type": "code",
   "execution_count": null,
   "metadata": {},
   "outputs": [],
   "source": []
  }
 ],
 "metadata": {
  "kernelspec": {
   "display_name": ".venv",
   "language": "python",
   "name": "python3"
  },
  "language_info": {
   "codemirror_mode": {
    "name": "ipython",
    "version": 3
   },
   "file_extension": ".py",
   "mimetype": "text/x-python",
   "name": "python",
   "nbconvert_exporter": "python",
   "pygments_lexer": "ipython3",
   "version": "3.9.2"
  },
  "orig_nbformat": 4
 },
 "nbformat": 4,
 "nbformat_minor": 2
}
